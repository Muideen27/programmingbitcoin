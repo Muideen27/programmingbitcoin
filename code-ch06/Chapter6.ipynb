{
 "cells": [
  {
   "cell_type": "code",
   "execution_count": 1,
   "metadata": {},
   "outputs": [],
   "source": [
    "############## PLEASE RUN THIS CELL FIRST! ###################\n",
    "\n",
    "# import everything and define a test runner function\n",
    "from importlib import reload\n",
    "from helper import run\n",
    "import op\n",
    "import script\n"
   ]
  },
  {
   "cell_type": "markdown",
   "metadata": {},
   "source": [
    "### Exercise 1\n",
    "\n",
    "Write the `op_hash160` function.\n",
    "\n",
    "#### Make [this test](/edit/code-ch06/op.py) pass: `op.py:OpTest:test_op_hash160`"
   ]
  },
  {
   "cell_type": "code",
   "execution_count": null,
   "metadata": {},
   "outputs": [],
   "source": [
    "# Exercise 1\n",
    "\n",
    "reload(op)\n",
    "run(op.OpTest(\"test_op_hash160\"))"
   ]
  },
  {
   "cell_type": "code",
   "execution_count": 2,
   "metadata": {
    "scrolled": false
   },
   "outputs": [
    {
     "name": "stdout",
     "output_type": "stream",
     "text": [
      "3045022000eff69ef2b1bd93a66ed5219add4fb51e11a840f404876325a1e8ffe0529a2c022100c7207fee197d27c618aea621406f6bf5ef6fca38681d82b2f06fddbdce6feab601\n",
      "04887387e452b8eacc4acfde10d9aaf7f6d9a0f975aabb10d006e4da568744d06c61de6d95231cd89026e286df3b6ae4a894a3378e393e93a0f45b666329a0ae34\n",
      "OP_CHECKSIG\n",
      "True\n"
     ]
    }
   ],
   "source": [
    "from script import Script\n",
    "z = 0x7c076ff316692a3d7eb3c3bb0f8b1488cf72e1afcd929e29307032997a838a3d\n",
    "sec = bytes.fromhex('04887387e452b8eacc4acfde10d9aaf7f6d9a0f975aabb10d006e4da568744d06c61de6d95231cd89026e286df3b6ae4a894a3378e393e93a0f45b666329a0ae34')\n",
    "sig = bytes.fromhex('3045022000eff69ef2b1bd93a66ed5219add4fb51e11a840f404876325a1e8ffe0529a2c022100c7207fee197d27c618aea621406f6bf5ef6fca38681d82b2f06fddbdce6feab601')\n",
    "script_pubkey = Script([sec, 0xac])\n",
    "script_sig = Script([sig])\n",
    "combined_script = script_sig + script_pubkey\n",
    "print('\\n'.join(combined_script.__repr__().split(' ')))\n",
    "print(combined_script.evaluate(z))\n"
   ]
  },
  {
   "cell_type": "markdown",
   "metadata": {},
   "source": [
    "### Exercise 2\n",
    "\n",
    "Write the `op_checksig` function in `op.py`\n",
    "\n",
    "#### Make [this test](/edit/code-ch06/op.py) pass: `op.py:OpTest:test_op_checksig`"
   ]
  },
  {
   "cell_type": "code",
   "execution_count": null,
   "metadata": {},
   "outputs": [],
   "source": [
    "# Exercise 2\n",
    "\n",
    "reload(op)\n",
    "run(op.OpTest(\"test_op_checksig\"))"
   ]
  },
  {
   "cell_type": "markdown",
   "metadata": {},
   "source": [
    "### Exercise 3\n",
    "\n",
    "Create a ScriptSig that can unlock this ScriptPubKey. Note `OP_MUL` multiplies the top two elements of the stack.\n",
    "\n",
    "`767695935687`\n",
    "\n",
    "* `56 = OP_6`\n",
    "* `76 = OP_DUP`\n",
    "* `87 = OP_EQUAL`\n",
    "* `93 = OP_ADD`\n",
    "* `95 = OP_MUL`"
   ]
  },
  {
   "cell_type": "code",
   "execution_count": 9,
   "metadata": {
    "scrolled": false
   },
   "outputs": [
    {
     "name": "stdout",
     "output_type": "stream",
     "text": [
      "True\n",
      "True\n",
      "True\n",
      "True\n"
     ]
    }
   ],
   "source": [
    "\"\"\"Note: Implementing stack as a list can cause variable performance for append operations.\n",
    "There is another iterable, deque, that is optimized for access to head and tail of the list.\n",
    "The append operation could be renamed to a more contextual `push`:\n",
    "\n",
    "from collections import deque\n",
    "class Stack(deque):\n",
    "    def push(self, obj):\n",
    "        self.append(obj)\n",
    "\n",
    "\"\"\"\n",
    "# Exercise 3\n",
    "#             op       stack[btm,top]  desc\n",
    "# begin ScriptSig\n",
    "#             OP_X     [x]              # push x\n",
    "# begin ScriptPubKey\n",
    "#             OP_DUP   [x, x]           # push copy of top of stack\n",
    "#             OP_DUP   [x, x, x]        # push copy of top of stack \n",
    "#             OP_MUL   [x, x**2]        # push product of top 2 of stack\n",
    "#             OP_ADD   [x + x**2]       # push sum of top 2 of stack\n",
    "#             OP_6     [x + x**2, 6]    # push 6\n",
    "#             OP_EQUAL [?]              # pop twice, push 1 if equal, 0 if not\n",
    "# -3 or 2 could solve for x\n",
    "from op import encode_num\n",
    "from script import Script\n",
    "script_pubkey = Script([0x76, 0x76, 0x95, 0x93, 0x56, 0x87])\n",
    "# [(solve with 2), (solve with -3), (solve with 3 * -1), (solve with (76 byte num+3) - 76 byte num)]\n",
    "# 76 byte nums that would require op_pushdata1:\n",
    "bignum = 4165788178955036068153632992568381390820338178251230770191718730983557332241978374424803939335131652305014348911737262865463367354138880309094274343267351779951617810473672306131200\n",
    "bignum_plus_3 = 4165788178955036068153632992568381390820338178251230770191718730983557332241978374424803939335131652305014348911737262865463367354138880309094274343267351779951617810473672306131203\n",
    "script_sigs = [ Script([0x52]),  # 82: OP_2\n",
    "                Script([encode_num(-3)]),  # 0x83/131: Script encoded -3 (would be serialized with\n",
    "                                           #   0x01 prefix) \n",
    "                # Script([0x53,    # 83: OP_3\n",
    "                #         0x4f,    # 79: OP_1NEGATE\n",
    "                #         0x95]),  # 149: OP_MUL\n",
    "                # OP_MUL is dsiabled in Bitcoin Core and Song's code after ch06\n",
    "                Script([0x53,    # 83: OP_3\n",
    "                        0x8f]),  # 143: OP_NEGATE\n",
    "                Script([encode_num(bignum),\n",
    "                        encode_num(bignum_plus_3),         \n",
    "                        0x94]) ]                     # 148: OP_SUB\n",
    "for script_sig in script_sigs:\n",
    "    combined_script = script_sig + script_pubkey\n",
    "    print(combined_script.evaluate(0))\n"
   ]
  },
  {
   "cell_type": "markdown",
   "metadata": {},
   "source": [
    "### Exercise 4\n",
    "\n",
    "Figure out what this Script is doing:\n",
    "\n",
    "`6e879169a77ca787`\n",
    "\n",
    "* `69 = OP_VERIFY`\n",
    "* `6e = OP_2DUP`\n",
    "* `7c = OP_SWAP`\n",
    "* `87 = OP_EQUAL`\n",
    "* `91 = OP_NOT`\n",
    "* `a7 = OP_SHA1`\n",
    "\n",
    "Use the `Script.parse` method and look up what various opcodes do at https://en.bitcoin.it/wiki/Script"
   ]
  },
  {
   "cell_type": "code",
   "execution_count": 22,
   "metadata": {},
   "outputs": [
    {
     "name": "stdout",
     "output_type": "stream",
     "text": [
      "shared prefix + colliding segments +\n",
      "\t random 84 byte suffix: True\n",
      "\t random 18 byte suffix: True\n",
      "\t random 44 byte suffix: True\n",
      "\t random 92 byte suffix: True\n",
      "\t random 9 byte suffix: True\n",
      "\t random 57 byte suffix: True\n",
      "\t random 22 byte suffix: True\n",
      "\t random 89 byte suffix: True\n",
      "\t random 20 byte suffix: True\n",
      "\t random 17 byte suffix: True\n",
      "shattered-1.pdf vs shattered-2.pdf: True\n"
     ]
    }
   ],
   "source": [
    "# Exercise 4\n",
    "#             op         stack[btm,top]       desc\n",
    "# begin ScriptSig\n",
    "#                        [x, y]          \n",
    "# begin ScriptPubKey\n",
    "#             OP_2DUP    [x, y, x, y]        # push copy of top 2 stack items\n",
    "#             OP_EQUAL   [1|0, x, y]         # push 1 if top 2 elements equal, 0 if not \n",
    "#             OP_NOT     [0|1, x, y]         # push opposite if 0 or 1 popped\n",
    "#             OP_VERIFY  [x, y]              # invalidate transaction if 0 at top of stack\n",
    "#             OP_SHA1    [sha1(x), y]        # push sha1 of top of stack\n",
    "#             OP_SWAP    [y, sha1(x)]        # two items on the stack are swapped\n",
    "#             OP_SHA1    [sha1(y), sha1(x)]  # push sha1 of top of stack\n",
    "#             OP_EQUAL   [1|0]               # push 1 if top 2 elements equal, 0 if not\n",
    "\n",
    "# Need two different inputs that hash to the same value, or a sha1 collision.\n",
    "# Famous Google-discovered example at https://shattered.it/\n",
    "# $ curl -sSO https://shattered.it/shattered-1.pdf\n",
    "# $ curl -sSO https://shattered.it/shattered-2.pdf\n",
    "\n",
    "# Song also references the same research, but generates much shorter collision examples from:\n",
    "# https://security.googleblog.com/2017/02/announcing-first-sha1-collision.html ->\n",
    "#    https://marc-stevens.nl/research/papers/SBKAM17-SHAttered.pdf\n",
    "# modified from answers.py:\n",
    "prefix_hex = '255044462d312e330a25e2e3cfd30a0a0a312030206f626a0a3c3c2f576964746820\\\n",
    "32203020522f4865696768742033203020522f547970652034203020522f537562747970652035\\\n",
    "203020522f46696c7465722036203020522f436f6c6f7253706163652037203020522f4c656e67\\\n",
    "74682038203020522f42697473506572436f6d706f6e656e7420383e3e0a73747265616d0affd8\\\n",
    "fffe00245348412d3120697320646561642121212121852fec092339759c39b1a1c63c4c97e1ff\\\n",
    "fe01'\n",
    "M_1_1_hex = '7f46dc93a6b67e013b029aaa1db2560b\\\n",
    "45ca67d688c7f84b8c4c791fe02b3df6\\\n",
    "14f86db1690901c56b45c1530afedfb7\\\n",
    "6038e972722fe7ad728f0e4904e046c2'\n",
    "M_2_1_hex = '30570fe9d41398abe12ef5bc942be335\\\n",
    "42a4802d98b5d70f2a332ec37fac3514\\\n",
    "e74ddc0f2cc1a874cd0c78305a215664\\\n",
    "61309789606bd0bf3f98cda8044629a1'\n",
    "M_1_2_hex = '7346dc9166b67e118f029ab621b2560f\\\n",
    "f9ca67cca8c7f85ba84c79030c2b3de2\\\n",
    "18f86db3a90901d5df45c14f26fedfb3\\\n",
    "dc38e96ac22fe7bd728f0e45bce046d2'\n",
    "M_2_2_hex = '3c570feb141398bb552ef5a0a82be331\\\n",
    "fea48037b8b5d71f0e332edf93ac3500\\\n",
    "eb4ddc0decc1a864790c782c76215660\\\n",
    "dd309791d06bd0af3f98cda4bc4629b1'\n",
    "\n",
    "from random import randint\n",
    "from script import Script\n",
    "\n",
    "script_pubkey = Script([0x6e, 0x87, 0x91, 0x69, 0xa7, 0x7c, 0xa7, 0x87])\n",
    "prefix = bytes.fromhex(prefix_hex)\n",
    "M_1_1 = bytes.fromhex(M_1_1_hex)\n",
    "M_2_1 = bytes.fromhex(M_2_1_hex)\n",
    "M_1_2 = bytes.fromhex(M_1_2_hex)\n",
    "M_2_2 = bytes.fromhex(M_2_2_hex)\n",
    "\n",
    "print('shared prefix + colliding segments +')\n",
    "for _ in range(10):\n",
    "    # generate random bytes as suffix\n",
    "    suffix = bytearray()\n",
    "    for __ in range(randint(0, 100)):\n",
    "        suffix.append(randint(0, 255))\n",
    "    print(f'\\t random {len(suffix)} byte suffix: ', end='')\n",
    "    script_sig = Script([prefix + M_1_1 + M_2_1 + bytes(suffix),\n",
    "                        prefix + M_1_2 + M_2_2 + bytes(suffix)])\n",
    "    combined_script = script_sig + script_pubkey\n",
    "    print(combined_script.evaluate(0))    \n",
    "\n",
    "print('shattered-1.pdf vs shattered-2.pdf: ', end='')\n",
    "with open('shattered-1.pdf', 'rb') as file1, open('shattered-2.pdf', 'rb') as file2:\n",
    "    script_sig = Script([file1.read(), file2.read()])\n",
    "    combined_script = script_sig + script_pubkey\n",
    "    print(combined_script.evaluate(0))"
   ]
  }
 ],
 "metadata": {
  "kernelspec": {
   "display_name": "Python 3",
   "language": "python",
   "name": "python3"
  },
  "language_info": {
   "codemirror_mode": {
    "name": "ipython",
    "version": 3
   },
   "file_extension": ".py",
   "mimetype": "text/x-python",
   "name": "python",
   "nbconvert_exporter": "python",
   "pygments_lexer": "ipython3",
   "version": "3.8.10"
  }
 },
 "nbformat": 4,
 "nbformat_minor": 2
}
