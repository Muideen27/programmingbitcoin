{
 "cells": [
  {
   "cell_type": "code",
   "execution_count": 1,
   "metadata": {},
   "outputs": [],
   "source": [
    "############## PLEASE RUN THIS CELL FIRST! ###################\n",
    "\n",
    "# import everything and define a test runner function\n",
    "from importlib import reload\n",
    "from helper import run\n",
    "import ecc\n",
    "import helper"
   ]
  },
  {
   "cell_type": "markdown",
   "metadata": {},
   "source": [
    "### Exercise 1\n",
    "\n",
    "Find the uncompressed SEC format for the Public Key where the Private Key secrets are:\n",
    "\n",
    "* 5000\n",
    "* \\\\(2018^{5}\\\\)\n",
    "* 0xdeadbeef12345"
   ]
  },
  {
   "cell_type": "code",
   "execution_count": 15,
   "metadata": {},
   "outputs": [
    {
     "name": "stdout",
     "output_type": "stream",
     "text": [
      "04ffe558e388852f0120e46af2d1b370f85854a8eb0841811ece0e3e03d282d57c315dc72890a4f10a1481c031b03b351b0dc79901ca18a00cf009dbdb157a1d10\n",
      "04027f3da1918455e03c46f659266a1bb5204e959db7364d2f473bdf8f0a13cc9dff87647fd023c13b4a4994f17691895806e1b40b57f4fd22581a4f46851f3b06\n",
      "04d90cd625ee87dd38656dd95cf79f65f60f7273b67d3096e68bd81e4f5342691f842efa762fd59961d0e99803c61edba8b3e3f7dc3a341836f97733aebf987121\n",
      "\n",
      "04ffe558e388852f0120e46af2d1b370f85854a8eb0841811ece0e3e03d282d57c315dc72890a4f10a1481c031b03b351b0dc79901ca18a00cf009dbdb157a1d10\n",
      "04027f3da1918455e03c46f659266a1bb5204e959db7364d2f473bdf8f0a13cc9dff87647fd023c13b4a4994f17691895806e1b40b57f4fd22581a4f46851f3b06\n",
      "04d90cd625ee87dd38656dd95cf79f65f60f7273b67d3096e68bd81e4f5342691f842efa762fd59961d0e99803c61edba8b3e3f7dc3a341836f97733aebf987121\n"
     ]
    }
   ],
   "source": [
    "\"\"\"SEC : Standards for Efficient Cryptography\n",
    "\n",
    "Standard for ECDSA public keys, comes in compressed and uncompressed formats.\n",
    "See https://secg.org/sec1-v2.pdf#subsubsection.2.3.3\n",
    "\n",
    "Uncompressed SEC can be encoded like so:\n",
    "    1. Start with prefix byte 0x04 (acts as a signifier of what to expect)\n",
    "    2. Append the pubkey x coordinate (32 bytes big endian)\n",
    "    3. Append the pubkey y coordinate (32 bytes big endian)\n",
    "\n",
    "\"\"\"\n",
    "# Exercise 1\n",
    "from ecc import PrivateKey\n",
    "\n",
    "secrets = (5000, 2018**5, 0xdeadbeef12345)\n",
    "def UncompSECEncode(pub_key):\n",
    "    return b'\\x04' + pub_key.x.num.to_bytes(32, 'big') + pub_key.y.num.to_bytes(32, 'big')\n",
    "\n",
    "for secret in secrets:\n",
    "    print(UncompSECEncode(PrivateKey(secret).point).hex())\n",
    "print()\n",
    "# Using Song's S256Point method sec:\n",
    "for secret in secrets:\n",
    "    print(PrivateKey(secret).point.sec(compressed=False).hex())"
   ]
  },
  {
   "cell_type": "markdown",
   "metadata": {},
   "source": [
    "### Exercise 2\n",
    "\n",
    "Find the Compressed SEC format for the Public Key where the Private Key secrets are:\n",
    "\n",
    "* 5001\n",
    "* \\\\(2019^{5}\\\\)\n",
    "* 0xdeadbeef54321"
   ]
  },
  {
   "cell_type": "code",
   "execution_count": 88,
   "metadata": {},
   "outputs": [
    {
     "name": "stdout",
     "output_type": "stream",
     "text": [
      "02ffe558e388852f0120e46af2d1b370f85854a8eb0841811ece0e3e03d282d57c\n",
      "02027f3da1918455e03c46f659266a1bb5204e959db7364d2f473bdf8f0a13cc9d\n",
      "03d90cd625ee87dd38656dd95cf79f65f60f7273b67d3096e68bd81e4f5342691f\n",
      "\n",
      "02ffe558e388852f0120e46af2d1b370f85854a8eb0841811ece0e3e03d282d57c\n",
      "02027f3da1918455e03c46f659266a1bb5204e959db7364d2f473bdf8f0a13cc9d\n",
      "03d90cd625ee87dd38656dd95cf79f65f60f7273b67d3096e68bd81e4f5342691f\n",
      "True\n",
      "True\n",
      "True\n"
     ]
    }
   ],
   "source": [
    "\"\"\"Compressed SEC\n",
    "\n",
    "The SEC format can be compressed by leveraging some characteristics of elliptic curves and finite\n",
    "fields. If we know x, y can be computed with the elliptic curve formula, or y**2 == x**3 + a*x + b.\n",
    "Also, for any given x, there can only be one y value, or in the case of the intersection of a\n",
    "vertical line not tangent to a real number elliptic curve, two y values, y and -y.\n",
    "\n",
    "However, since this is over a finite field, instead of y and -y, we could consider it y % P and\n",
    "(P - y) % P. Differentiating these two possibilites now becomes a matter of evenness rather than\n",
    "sign. P must be a prime greater than 2, and so is odd*. So if y is even, p-y is odd, and if y is odd,\n",
    "p-y is even. In other words, in a elliptic curve accross real numbers, it could be (x,y) or (x,-y),\n",
    "but for curves accross a finite field, it's (x, (even y satisfying curve equation)) or\n",
    "(x, (odd y satisfying curve equation)).\n",
    "\n",
    "So, only the x coordinate and the sign of the y are truly needed when data size is a consideration.\n",
    "Compressed SEC is encoded like so:\n",
    "    1. Prefix byte: 0x02 if y is even, 0x03 if y is odd\n",
    "    2. Append pubkey x coordinate in 32-byte big endian\n",
    "\n",
    "* In this section of the book, Song asserts that P for a given elliptic curve over a finite field\n",
    "must be greater than 2. Should we establish that as a class invariant in FieldElement? \n",
    "\n",
    "\"\"\"\n",
    "# Exercise 2\n",
    "from ecc import PrivateKey\n",
    "\n",
    "secrets = (5000, 2018**5, 0xdeadbeef12345)\n",
    "def CompSECEncode(pub_key):\n",
    "    prefix = b'\\x02' if pub_key.y.num % 2 == 0 else b'\\x03'\n",
    "    return prefix + pub_key.x.num.to_bytes(32, 'big')\n",
    "\n",
    "for secret in secrets:\n",
    "    print(CompSECEncode(PrivateKey(secret).point).hex())\n",
    "print()\n",
    "# Using Song's S256Point.sec()\n",
    "for secret in secrets:\n",
    "    # implicit sec(compressed=True)\n",
    "    print(PrivateKey(secret).point.sec().hex())\n",
    "\n",
    "\"\"\"Decoding SEC\n",
    "\n",
    "See https://secg.org/sec1-v2.pdf#subsubsection.2.3.4\n",
    "\n",
    "Decoding requires deriving x from y, which for y**2 = x**3 + ax + b means that we need\n",
    "to take the square root of a finite field element. One of the characteristics of secp256k1\n",
    "is that P % 4 = 3, which can be used here to help derive an answer:\n",
    "\n",
    "Because P % 4 = 3, (P + 1) % 4 = 0, so (P + 1)/4 is an integer.\n",
    "\n",
    "Looking for the square root, or w**2 = v, can be transformed via Fermat's Little Theorem, to\n",
    "w**(P - 1) % P = 1, and so w**2 = w**2 * 1 = w**2 * w**(P - 1) = w**(P + 1).\n",
    "\n",
    "Any prime other than 2 / 2 % P should equal an integer, so for w**2 = w**(P + 1) we\n",
    "can divide both exponents by 2 to get w = w**(P + 1)/2.\n",
    "\n",
    "Further, if (P + 1)/4 is an integer, then w = w**(P + 1)/2 = w**2(P + 1)/4 =\n",
    "(w**2)**(P + 1)/4 = v**(P + 1)/4, or w = v**(P + 1)/4 if P % 4 = 3\n",
    "\n",
    "Recall:\n",
    "Uncompressed SEC can be encoded like so:\n",
    "    1. Start with prefix byte 0x04 (acts as a signifier of what to expect)\n",
    "    2. Append the pubkey x coordinate (32 bytes big endian)\n",
    "    3. Append the pubkey y coordinate (32 bytes big endian)\n",
    "Compressed SEC is encoded like so:\n",
    "    1. Prefix byte: 0x02 if y is even, 0x03 if y is odd\n",
    "    2. Append pubkey x coordinate in 32-byte big endian\n",
    "\n",
    "    Song's PrivateKey.parse()\n",
    "\n",
    "\"\"\"\n",
    "from ecc import P, B, S256Field, S256Point\n",
    "\n",
    "\"\"\"\n",
    "# S256Point.sqrt\n",
    "def sqrt(self):\n",
    "    # floor div to force int exponent\n",
    "    return self**(P + 1) // 4\n",
    "\"\"\"\n",
    "def decode_sec(sec):\n",
    "    compressed = True\n",
    "    if sec[0] == 4:  # b'\\x04'\n",
    "        compressed = False\n",
    "    elif sec[0] == 2:  # b'\\x02'\n",
    "        even_y = True\n",
    "    elif sec[0] == 3:  # b'\\x03'\n",
    "        even_y = False\n",
    "    else:\n",
    "        raise ValueError(\"Invalid SEC prefix byte of {:x}\".format(sec[0]))\n",
    "    x = S256Field(int.from_bytes(sec[1:33], 'big'))\n",
    "    if not compressed:\n",
    "        return S256Point(x=x, y=S256Field(int.from_bytes(sec[33:65], 'big')))\n",
    "    # y**2 = x**3 + 7\n",
    "    alpha = x**3 + S256Field(B)  # B == 7\n",
    "    beta = alpha.sqrt()\n",
    "    if (beta.num % 2 == 0):\n",
    "        even_beta = beta\n",
    "        odd_beta = S256Field(P - beta.num)\n",
    "    else:\n",
    "        even_beta = S256Field(P - beta.num)\n",
    "        odd_beta = beta\n",
    "    if even_y:\n",
    "        return S256Point(x, even_beta)\n",
    "    else:\n",
    "        return S256Point(x, odd_beta)\n",
    "    \n",
    "for secret in secrets:\n",
    "    print(decode_sec(PrivateKey(secret).point.sec()) ==\n",
    "          S256Point.parse(PrivateKey(secret).point.sec()))\n",
    "        "
   ]
  },
  {
   "cell_type": "markdown",
   "metadata": {},
   "source": [
    "### Exercise 3\n",
    "\n",
    "Find the DER format for a signature whose `r` and `s` values are:\n",
    "\n",
    "* r =\n",
    "\n",
    "`0x37206a0610995c58074999cb9767b87af4c4978db68c06e8e6e81d282047a7c6`\n",
    "\n",
    "* s =\n",
    "\n",
    "`0x8ca63759c1157ebeaec0d03cecca119fc9a75bf8e6d0fa65c841c8e2738cdaec`"
   ]
  },
  {
   "cell_type": "code",
   "execution_count": 42,
   "metadata": {},
   "outputs": [
    {
     "name": "stdout",
     "output_type": "stream",
     "text": [
      "3045022037206a0610995c58074999cb9767b87af4c4978db68c06e8e6e81d282047a7c60221008ca63759c1157ebeaec0d03cecca119fc9a75bf8e6d0fa65c841c8e2738cdaec\n",
      "3045022037206a0610995c58074999cb9767b87af4c4978db68c06e8e6e81d282047a7c60221008ca63759c1157ebeaec0d03cecca119fc9a75bf8e6d0fa65c841c8e2738cdaec\n",
      "True\n"
     ]
    }
   ],
   "source": [
    "\"\"\"DER - Distinguished Encoding Rules\n",
    "\n",
    "DER, likely taken from early Bitcoin implementation's use of OpenSSL, is\n",
    "used to (de)serialize signatures.\n",
    "\n",
    "Both r and s need to be encoded, as s cannot solely be derived from r.\n",
    "\n",
    "DER is as follows:\n",
    "    1. Prefix of 0x30\n",
    "    2. Length of the encoded signature to follow, in bytes (single byte, endianness not relevant)\n",
    "    3. Marker byte 0x02\n",
    "    4. r in big-endian, with leading 0x00 bytes trimmed, and then one added back if first non 0x00\n",
    "        byte is >= 0x80, to prevent being seen as negative. Prepend length of resulting value in\n",
    "        bytes.\n",
    "    5. Marker byte 0x02\n",
    "    6. s in big-endian, with leading 0x00 bytes trimmed, and then one added back if first non 0x00\n",
    "        byte is >= 0x80, to prevent being seen as negative. Prepend length of resulting value in\n",
    "        bytes.\n",
    "\n",
    "\"\"\"\n",
    "# Exercise 3\n",
    "\n",
    "from ecc import Signature\n",
    "\n",
    "r = 0x37206a0610995c58074999cb9767b87af4c4978db68c06e8e6e81d282047a7c6\n",
    "s = 0x8ca63759c1157ebeaec0d03cecca119fc9a75bf8e6d0fa65c841c8e2738cdaec\n",
    "\n",
    "def PrepIntForDER(value):\n",
    "    bin = value.to_bytes(32, 'big')\n",
    "    # remove leading null bytes\n",
    "    bin.lstrip(b'\\x00')\n",
    "    # restore single leading null byte if value could be interpreted as negative\n",
    "    if bin[0] >= 0x80:\n",
    "        bin = b'\\x00' + bin\n",
    "    return b'\\x02' + len(bin).to_bytes(1, 'big') + bin\n",
    "\n",
    "r_der = PrepIntForDER(r)\n",
    "s_der = PrepIntForDER(s)\n",
    "print((b'\\x30' + (len(r_der) + len(s_der)).to_bytes(1, 'big') + r_der + s_der).hex())\n",
    "\n",
    "# Song's Signature method der:\n",
    "sig = Signature(r=r, s=s)\n",
    "print(sig.der().hex())\n",
    "print(sig.der() == b'\\x30' + (len(r_der) + len(s_der)).to_bytes(1, 'big') + r_der + s_der)\n"
   ]
  },
  {
   "cell_type": "markdown",
   "metadata": {},
   "source": [
    "### Exercise 4\n",
    "\n",
    "Convert the following hex to binary and then to Base58:\n",
    "\n",
    "* `7c076ff316692a3d7eb3c3bb0f8b1488cf72e1afcd929e29307032997a838a3d`\n",
    "* `eff69ef2b1bd93a66ed5219add4fb51e11a840f404876325a1e8ffe0529a2c`\n",
    "* `c7207fee197d27c618aea621406f6bf5ef6fca38681d82b2f06fddbdce6feab6`"
   ]
  },
  {
   "cell_type": "code",
   "execution_count": 52,
   "metadata": {},
   "outputs": [
    {
     "name": "stdout",
     "output_type": "stream",
     "text": [
      "1112\n",
      "9MA8fRQrT4u8Zj8ZRd6MAiiyaxb2Y1CMpvVkHQu5hVM6\n",
      "4fE3H2E6XMp4SsxtwinF7w9a34ooUrwWe4WsW1458Pd\n",
      "EQJsjkd6JaGwxrjEhfeqPenqHwrBmPQZjJGNSCHBkcF7\n",
      "\n",
      "1112\n",
      "True\n",
      "9MA8fRQrT4u8Zj8ZRd6MAiiyaxb2Y1CMpvVkHQu5hVM6\n",
      "True\n",
      "4fE3H2E6XMp4SsxtwinF7w9a34ooUrwWe4WsW1458Pd\n",
      "True\n",
      "EQJsjkd6JaGwxrjEhfeqPenqHwrBmPQZjJGNSCHBkcF7\n",
      "True\n"
     ]
    }
   ],
   "source": [
    "\"\"\"Base 58 notation - all digits + upper alpha + lower alpha - '0' - '1' - 'O' - 'l'\n",
    "\n",
    "According to Song, may eventually be replaced by the Bech32 standard used now in Segwit:\n",
    "digits + lower alpha - '1' -'b' - 'i' - 'o'.\n",
    "\n",
    "\"\"\"\n",
    "\n",
    "# Exercise 4\n",
    "\n",
    "hex_strs = (\"00000001\",\n",
    "            \"7c076ff316692a3d7eb3c3bb0f8b1488cf72e1afcd929e29307032997a838a3d\",\n",
    "            \"eff69ef2b1bd93a66ed5219add4fb51e11a840f404876325a1e8ffe0529a2c\",\n",
    "            \"c7207fee197d27c618aea621406f6bf5ef6fca38681d82b2f06fddbdce6feab6\")\n",
    "\n",
    "# digits + caps + lower - (0, 1, O, l) \n",
    "BASE58_CHARSET =  \"123456789ABCDEFGHJKLMNPQRSTUVWXYZabcdefghijkmnopqrstuvwxyz\"\n",
    "\n",
    "def base58(bytes_obj):\n",
    "    # manually transcode leading null bytes (for fixed-width bytes objects)\n",
    "    null_byte_ct = 0\n",
    "    for byte in bytes_obj:\n",
    "        if byte == 0x00:\n",
    "            null_byte_ct += 1\n",
    "        else:\n",
    "            break\n",
    "    prefix = BASE58_CHARSET[0x00] * null_byte_ct\n",
    "    num = int.from_bytes(bytes_obj, 'big')\n",
    "    b58_str = \"\"\n",
    "    while num > 0:\n",
    "        num, mod = divmod(num, 58)\n",
    "        b58_str = BASE58_CHARSET[mod] + b58_str\n",
    "    return prefix + b58_str\n",
    "\n",
    "for hex_s in hex_strs:\n",
    "    print(base58(bytes.fromhex(hex_s)))\n",
    "print()\n",
    "\n",
    "# Using Song's method:\n",
    "from helper import encode_base58\n",
    "# test of leading ones\n",
    "for hex_s in hex_strs:\n",
    "    print(encode_base58(bytes.fromhex(hex_s)))\n",
    "    print(base58(bytes.fromhex(hex_s)) == encode_base58(bytes.fromhex(hex_s)))\n"
   ]
  },
  {
   "cell_type": "markdown",
   "metadata": {},
   "source": [
    "### Exercise 5\n",
    "\n",
    "Find the address corresponding to Public Keys whose Private Key secrets are:\n",
    "\n",
    "* 5002 (use uncompressed SEC, on testnet)\n",
    "* \\\\(2020^{5}\\\\) (use compressed SEC, on testnet)\n",
    "* 0x12345deadbeef (use compressed SEC on mainnet)"
   ]
  },
  {
   "cell_type": "code",
   "execution_count": 60,
   "metadata": {},
   "outputs": [
    {
     "name": "stdout",
     "output_type": "stream",
     "text": [
      "mqsBj1baxzgPTeeRJbE8cbgdYmtc3yess3\n",
      "True\n",
      "mopVkxp8UhXqRYbCYJsbeE1h1fiF64jcoH\n",
      "True\n",
      "1F1Pn2y6pDb68E5nYJJeba4TLg2U7B6KF1\n",
      "True\n"
     ]
    }
   ],
   "source": [
    "\"\"\"Bitcoin address format - shortened and obfuscated form of public key used as wallet\n",
    "addresses\n",
    "\n",
    "Bitcoin addresses are serialized as follows:\n",
    "    1. For mainnet prefix 0x00, testnet 0x6f\n",
    "    2. Create a hash160 of the public key (SEC of key (compressed or not*) > sha256 > ripemd160)\n",
    "    3. Combine #1 and #2\n",
    "    4. Take first four bytes of hash256 (sha256 twice) of #3\n",
    "    5. Encode #3 and #4 in base58\n",
    "\n",
    "* TBD: Song states that there is the choice of compressed or uncompressed SEC - does this mean that\n",
    "there are four addresses avaialable for every public key? (mainnet short and long SEC, and testnet\n",
    "short and long SEC)?\n",
    "\n",
    "\"\"\"\n",
    "\n",
    "# Exercise 5\n",
    "\n",
    "from ecc import PrivateKey\n",
    "import hashlib\n",
    "sha256 = hashlib.sha256\n",
    "from helper import encode_base58\n",
    "# 5002 (use uncompressed SEC, on testnet)\n",
    "# 2020**5 (use compressed SEC, on testnet)\n",
    "# 0x12345deadbeef (use compressed SEC on mainnet)\n",
    "test_inputs = ((5002, True), (2020**5, True), (0x12345deadbeef, False))\n",
    "\n",
    "def encode_address(pub_key, testnet=True):\n",
    "    prefix = b'\\x6f' if testnet else b'\\x00'\n",
    "    h160 = hashlib.new('ripemd160', sha256(pub_key.sec()).digest()).digest()\n",
    "    h160 = prefix + h160\n",
    "    h256 = sha256(sha256(h160).digest()).digest()\n",
    "    return encode_base58(h160 + h256[:4])\n",
    "\n",
    "for secret, testnet in test_inputs:\n",
    "    print(encode_address(PrivateKey(secret).point, testnet))\n",
    "    # Comparing to Song's S256Point.address()\n",
    "    print(encode_address(PrivateKey(secret).point, testnet) ==\n",
    "             PrivateKey(secret).point.address(testnet=testnet))\n",
    "    "
   ]
  },
  {
   "cell_type": "markdown",
   "metadata": {},
   "source": [
    "### Exercise 6\n",
    "\n",
    "Find the WIF for Private Key whose secrets are:\n",
    "\n",
    "* 5003 (compressed, testnet)\n",
    "* \\\\(2021^{5}\\\\) (uncompressed, testnet)\n",
    "* 0x54321deadbeef (compressed, mainnet)"
   ]
  },
  {
   "cell_type": "code",
   "execution_count": 70,
   "metadata": {},
   "outputs": [
    {
     "name": "stdout",
     "output_type": "stream",
     "text": [
      "cMahea7zqjxrtgAbB7LSGbcQUr1uX1ojuat9jZodMN8rEy143Tdw\n",
      "True\n",
      "91avARGdfge8E4tZfYLoxeJ5sGBdNJQH4kvjpRuzvCbAb45H4xp\n",
      "True\n",
      "5HpHagT65TZzG1PH3CSu63k8DbpvD8s5ip4nETQsYsXAmH5Pk3h\n",
      "True\n"
     ]
    }
   ],
   "source": [
    "\"\"\"WIF - Wallet Import Format\n",
    "\n",
    "In the comparatively rare cases where a private key needs to be communicated, we can use WIF\n",
    "to serialize it like so:\n",
    "    1. Prefix of 0x80 for mainnet, 0xef for testnet\n",
    "    2. Secret encoded in 32 byte big endian\n",
    "    3. If SEC for public key was compressed, use suffix 0x01*\n",
    "    4. Combine #1, #2, and #3\n",
    "    5. Take first 4 bytes of hash256 (sha256 twice) of #4\n",
    "    6. Encode #4 and #5 in base 58.\n",
    "\n",
    "* TBD: This implies that any use of WIF also requires not only the inclusion, but the\n",
    "fresh reencoding, of an address, as we need to know the address's SEC size.\n",
    "\n",
    "\"\"\"\n",
    "\n",
    "# Exercise 6\n",
    "\n",
    "from ecc import PrivateKey\n",
    "from hashlib import sha256\n",
    "from helper import encode_base58\n",
    "test_inputs = ((5002, True, True), (2020**5, False, True), (0x12345deadbeef, False, False))\n",
    "\n",
    "def encode_wif(pri_key, testnet, sec_compressed):\n",
    "    prefix = b'\\xef' if testnet else b'\\x80'\n",
    "    secret_bin = secret.to_bytes(32, 'big')\n",
    "    suffix = b'\\x01' if sec_compressed else b''\n",
    "    h256 = sha256(sha256(prefix + secret_bin + suffix).digest()).digest()\n",
    "    return encode_base58(prefix + secret_bin + suffix + h256[:4])\n",
    "    \n",
    "for secret, compressed_sec, testnet in test_inputs:\n",
    "    print(encode_wif(secret, testnet, compressed_sec))\n",
    "    print(encode_wif(secret, testnet, compressed_sec) ==\n",
    "        PrivateKey(secret).wif(testnet=testnet, compressed=compressed_sec))"
   ]
  },
  {
   "cell_type": "markdown",
   "metadata": {},
   "source": [
    "### Exercise 7\n",
    "\n",
    "Write a function `little_endian_to_int` which takes Python bytes, interprets those bytes in Little-Endian and returns the number.\n",
    "\n",
    "#### Make [this test](/edit/code-ch04/helper.py) pass: `helper.py:HelperTest:test_little_endian_to_int`"
   ]
  },
  {
   "cell_type": "code",
   "execution_count": 73,
   "metadata": {},
   "outputs": [
    {
     "name": "stderr",
     "output_type": "stream",
     "text": [
      ".\n",
      "----------------------------------------------------------------------\n",
      "Ran 1 test in 0.005s\n",
      "\n",
      "OK\n"
     ]
    }
   ],
   "source": [
    "# Exercise 7\n",
    "\n",
    "reload(helper)\n",
    "run(helper.HelperTest(\"test_little_endian_to_int\"))"
   ]
  },
  {
   "cell_type": "markdown",
   "metadata": {},
   "source": [
    "### Exercise 8\n",
    "\n",
    "Write a function `int_to_little_endian` which does the reverse of the last exercise.\n",
    "\n",
    "#### Make [this test](/edit/code-ch04/helper.py) pass: `helper.py:HelperTest:test_int_to_little_endian`"
   ]
  },
  {
   "cell_type": "code",
   "execution_count": 74,
   "metadata": {},
   "outputs": [
    {
     "name": "stderr",
     "output_type": "stream",
     "text": [
      ".\n",
      "----------------------------------------------------------------------\n",
      "Ran 1 test in 0.006s\n",
      "\n",
      "OK\n"
     ]
    }
   ],
   "source": [
    "# Exercise 8\n",
    "\n",
    "reload(helper)\n",
    "run(helper.HelperTest(\"test_int_to_little_endian\"))"
   ]
  },
  {
   "cell_type": "markdown",
   "metadata": {},
   "source": [
    "### Exercise 9\n",
    "\n",
    "Create a testnet address for yourself using a long secret that only you know. This is important as there are bots on testnet trying to steal testnet coins. Make sure you write this secret down somewhere! You will be using the secret later to sign Transactions."
   ]
  },
  {
   "cell_type": "code",
   "execution_count": 77,
   "metadata": {},
   "outputs": [
    {
     "name": "stdout",
     "output_type": "stream",
     "text": [
      "mjurPTqUces4EmN21g1tR7JadSrqyFmfY8\n"
     ]
    }
   ],
   "source": [
    "# Exercise 9\n",
    "\n",
    "from ecc import PrivateKey\n",
    "from helper import hash256, little_endian_to_int\n",
    "\n",
    "# select a passphrase here, add your email address into the passphrase for security\n",
    "# passphrase = b'your@email.address some secret only you know'\n",
    "passphrase = b'placeholder'\n",
    "secret = little_endian_to_int(hash256(passphrase))\n",
    "# create a private key using your secret\n",
    "# print an address from the public point of the private key with testnet=True\n",
    "print(PrivateKey(secret).point.address(testnet=True))"
   ]
  }
 ],
 "metadata": {
  "kernelspec": {
   "display_name": "Python 3",
   "language": "python",
   "name": "python3"
  },
  "language_info": {
   "codemirror_mode": {
    "name": "ipython",
    "version": 3
   },
   "file_extension": ".py",
   "mimetype": "text/x-python",
   "name": "python",
   "nbconvert_exporter": "python",
   "pygments_lexer": "ipython3",
   "version": "3.8.10"
  }
 },
 "nbformat": 4,
 "nbformat_minor": 2
}
